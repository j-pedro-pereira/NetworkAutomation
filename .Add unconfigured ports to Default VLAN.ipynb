{
 "cells": [
  {
   "cell_type": "markdown",
   "metadata": {},
   "source": [
    "# Add Unconfigured Ports to VLAN Default"
   ]
  },
  {
   "cell_type": "code",
   "execution_count": null,
   "metadata": {},
   "outputs": [],
   "source": [
    "import exsh\n",
    "import re\n",
    "\n",
    "try:\n",
    "    # Capture output of \"show ports vlan\"\n",
    "    vlan_output = exsh.clicmd(\"show ports vlan\", capture=True)\n",
    "\n",
    "    # Identify completely unconfigured ports (those with \"None None\")\n",
    "    unassigned_ports = []\n",
    "\n",
    "    # Process each line in the VLAN output\n",
    "    for line in vlan_output.splitlines():\n",
    "        # Match lines with the pattern \"X/Y None None\" (completely unconfigured ports)\n",
    "        match = re.match(r\"^\\s*(\\d+):(\\d+)\\s+None\\s+None\", line)\n",
    "        if match:\n",
    "            port_group = int(match.group(1))  # First part of the port (e.g., 1 in 1:1)\n",
    "            port_number = int(match.group(2))  # Second part of the port (e.g., 1 in 1:1)\n",
    "            port = f\"{port_group}:{port_number}\"\n",
    "\n",
    "            # Exclude ports numbered 49 and above\n",
    "            if port_number < 49:\n",
    "                unassigned_ports.append((port_group, port_number, port))\n",
    "\n",
    "    # Sort ports numerically by port group and port number\n",
    "    unassigned_ports.sort(key=lambda x: (x[0], x[1]))\n",
    "\n",
    "    # If there are unassigned ports, add them to the default VLAN\n",
    "    if unassigned_ports:\n",
    "        for port in unassigned_ports:\n",
    "            port_str = port[2]  # Get the port string (e.g., \"1:1\")\n",
    "            # Construct the command to add the port to the default VLAN\n",
    "            cmd = f\"configure vlan Default add ports {port_str} untagged\"\n",
    "            # Execute the command\n",
    "            exsh.clicmd(cmd)\n",
    "            print(f\"[+] Successfully added port {port_str} to VLAN Default\")\n",
    "    else:\n",
    "        print(\"[*] No unconfigured ports found.\")\n",
    "\n",
    "except Exception as e:\n",
    "    # Handle any exceptions that occur\n",
    "    print(f\"[-] Error: {e}\")"
   ]
  }
 ],
 "metadata": {
  "language_info": {
   "name": "python"
  }
 },
 "nbformat": 4,
 "nbformat_minor": 2
}
