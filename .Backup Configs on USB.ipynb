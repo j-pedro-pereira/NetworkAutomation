{
 "cells": [
  {
   "cell_type": "markdown",
   "metadata": {},
   "source": [
    "# Backing up Configs on USB"
   ]
  },
  {
   "cell_type": "code",
   "execution_count": null,
   "metadata": {},
   "outputs": [],
   "source": [
    "import exsh\n",
    "import os\n",
    "import datetime\n",
    "import logging\n",
    "\n",
    "# Configure logging\n",
    "logging.basicConfig(level=logging.INFO, format=\"%(asctime)s - %(levelname)s - %(message)s\")\n",
    "\n",
    "# Define USB path\n",
    "usbpath = \"/usr/local/ext/\"\n",
    "\n",
    "try:\n",
    "    # Retrieve the configuration from the device\n",
    "    configs = exsh.clicmd(\"show configuration\", capture=True).strip()\n",
    "\n",
    "    # Debug: Check raw output\n",
    "    logging.info(f\"Config Output Length: {len(configs)} characters\")\n",
    "\n",
    "    if not configs:\n",
    "        logging.error(\"No configuration data retrieved. The output is empty.\")\n",
    "        exit()\n",
    "\n",
    "    # Generate a timestamped filename\n",
    "    timestamp = datetime.datetime.now().strftime(\"%Y%m%d_%H%M%S\")\n",
    "    backup_filename = f\"exos_backup_config_{timestamp}.txt\"\n",
    "    backup_filepath = os.path.join(usbpath, backup_filename)\n",
    "\n",
    "    # Check if the USB path exists\n",
    "    if not os.path.exists(usbpath):\n",
    "        logging.error(f\"USB path '{usbpath}' does not exist. Ensure the storage is mounted.\")\n",
    "        exit()\n",
    "\n",
    "    # Ask for user confirmation before saving\n",
    "    confirm = input(f\"Do you want to save the configuration backup to '{backup_filename}'? (y/n): \").strip().lower()\n",
    "\n",
    "    if confirm == 'y':\n",
    "        # Write configuration to the backup file\n",
    "        with open(backup_filepath, 'w', encoding='utf-8') as file:\n",
    "            file.write(configs)\n",
    "            logging.info(f\"Configuration backup saved to {backup_filepath}\")\n",
    "    else:\n",
    "        logging.warning(\"Backup operation canceled.\")\n",
    "\n",
    "except PermissionError:\n",
    "    logging.error(f\"Permission denied: Unable to write to '{usbpath}'. Check write permissions.\")\n",
    "except Exception as e:\n",
    "    logging.error(f\"Error retrieving configurations: {e}\")\n",
    "    exit()\n"
   ]
  }
 ],
 "metadata": {
  "language_info": {
   "name": "python"
  }
 },
 "nbformat": 4,
 "nbformat_minor": 2
}
