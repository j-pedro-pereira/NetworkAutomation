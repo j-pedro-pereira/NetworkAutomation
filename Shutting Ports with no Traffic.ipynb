{
 "cells": [
  {
   "cell_type": "markdown",
   "metadata": {},
   "source": [
    "# Shutting Ports with no Traffic"
   ]
  },
  {
   "cell_type": "markdown",
   "metadata": {},
   "source": [
    "## For single unit switch"
   ]
  },
  {
   "cell_type": "code",
   "execution_count": null,
   "metadata": {},
   "outputs": [],
   "source": [
    "import re\n",
    "import exsh\n",
    "\n",
    "# Run the EXOS command and capture output\n",
    "try:\n",
    "    output = exsh.clicmd(\"show ports statistics no-refresh\", capture=True)\n",
    "except Exception as e:\n",
    "    print(f\"[-] Error running command: {e}\")\n",
    "    exit()\n",
    "\n",
    "# Regex to extract port numbers and traffic stats (including zero values)\n",
    "interfaces = re.findall(r\"(\\d+)\\s+\\S+\\s+(\\d+)\\s+(\\d+)\", output)\n",
    "\n",
    "inactive_ports = []\n",
    "\n",
    "# Find inactive interfaces, excluding ports 49 and above\n",
    "for interface, tx_pkts, rx_pkts in interfaces:\n",
    "    port_num = int(interface)  # Convert to integer for comparison\n",
    "    tx_pkts, rx_pkts = int(tx_pkts), int(rx_pkts)\n",
    "\n",
    "    if port_num < 49 and tx_pkts == 0 and rx_pkts == 0:  # Exclude ports 49+\n",
    "        inactive_ports.append(interface)\n",
    "\n",
    "# Generate and execute EXOS CLI commands\n",
    "if inactive_ports:\n",
    "    for port in inactive_ports:\n",
    "        if port == '0':\n",
    "            continue\n",
    "        try:\n",
    "            exsh.clicmd(f\"disable ports {port}\")\n",
    "            print(f\"[+] Successfully disabled port {port}\")\n",
    "        except Exception as e:\n",
    "            print(f\"[-] Error disabling port {port}: {e}\")\n",
    "else:\n",
    "    print(\"[+] No inactive ports found\")"
   ]
  },
  {
   "cell_type": "markdown",
   "metadata": {},
   "source": [
    "## For switches mounted in stack"
   ]
  },
  {
   "cell_type": "code",
   "execution_count": null,
   "metadata": {},
   "outputs": [],
   "source": [
    "import re\n",
    "import exsh\n",
    "\n",
    "# Run the EXOS command and capture output\n",
    "try:\n",
    "    output = exsh.clicmd(\"show ports statistics no-refresh\", capture=True)\n",
    "except Exception as e:\n",
    "    print(f\"[-] Error running command: {e}\")\n",
    "    exit()\n",
    "\n",
    "# Regex to extract stacked port numbers (format: slot:port) and traffic stats\n",
    "interfaces = re.findall(r\"(\\d+:\\d+)\\s+\\S+\\s+(\\d+)\\s+(\\d+)\", output)\n",
    "\n",
    "inactive_ports = []\n",
    "\n",
    "# Find inactive interfaces, excluding ports 49 and above per slot\n",
    "for interface, tx_pkts, rx_pkts in interfaces:\n",
    "    slot, port = map(int, interface.split(\":\"))  # Split into slot and port\n",
    "    tx_pkts, rx_pkts = int(tx_pkts), int(rx_pkts)\n",
    "\n",
    "    if port < 49 and tx_pkts == 0 and rx_pkts == 0:  # Exclude ports 49+ per slot\n",
    "        inactive_ports.append(interface)\n",
    "\n",
    "# Generate and execute EXOS CLI commands\n",
    "if inactive_ports:\n",
    "    for port in inactive_ports:\n",
    "        try:\n",
    "            exsh.clicmd(f\"disable ports {port}\")\n",
    "            print(f\"[+] Successfully disabled port {port}\")\n",
    "        except Exception as e:\n",
    "            print(f\"[-] Error disabling port {port}: {e}\")\n",
    "else:\n",
    "    print(\"[+] No inactive ports found\")\n"
   ]
  }
 ],
 "metadata": {
  "language_info": {
   "name": "python"
  }
 },
 "nbformat": 4,
 "nbformat_minor": 2
}
