{
 "cells": [
  {
   "cell_type": "markdown",
   "metadata": {},
   "source": [
    "# Network Automation"
   ]
  },
  {
   "cell_type": "markdown",
   "metadata": {},
   "source": [
    "Neste notebook estão presentes vários scripts que podem ser utilizados em automação de redes. \n",
    "\n",
    "Nota que estes scripts só funcionam para ExtremeXOS. Caso pretenda mudar algum script tenha em consideração que os comandos possam ser diferentes de fabricante para fabricante."
   ]
  },
  {
   "cell_type": "markdown",
   "metadata": {},
   "source": [
    "## Adicionar VLANs ao STP"
   ]
  },
  {
   "cell_type": "code",
   "execution_count": null,
   "metadata": {},
   "outputs": [],
   "source": [
    "import exsh\n",
    "import re\n",
    "\n",
    "try:\n",
    "    # Get the list of VLANs\n",
    "    output = exsh.clicmd(\"show vlan\", capture=True)\n",
    "    vlans = re.findall(r\"^(\\d+)\\s+\", output, re.MULTILINE)\n",
    "\n",
    "    for vlan in vlans:\n",
    "        try:\n",
    "            # Check if VLAN is already in STP\n",
    "            stp_output = exsh.clicmd(\"show stp\", capture=True)\n",
    "            if f\"VLAN {vlan}\" not in stp_output:\n",
    "                try:\n",
    "                    # Add VLAN to STP\n",
    "                    exsh.clicmd(f\"configure stp vlan {vlan}\")\n",
    "                    print(f\"[+] Successfully added VLAN {vlan} to STP\")\n",
    "                except Exception as e:\n",
    "                    print(f\"[-] Error adding VLAN {vlan} to STP: {e}\")\n",
    "            else:\n",
    "                print(f\"[*] VLAN {vlan} is already in STP\")\n",
    "        except Exception as e:\n",
    "            print(f\"[-] Error checking STP status for VLAN {vlan}: {e}\")\n",
    "except Exception as e:\n",
    "    print(f\"[-] Error retrieving VLANs: {e}\")\n",
    "    exit()\n"
   ]
  },
  {
   "cell_type": "markdown",
   "metadata": {},
   "source": [
    "## Configurações de Backup"
   ]
  },
  {
   "cell_type": "code",
   "execution_count": null,
   "metadata": {},
   "outputs": [],
   "source": [
    "import exsh\n",
    "import os\n",
    "import datetime\n",
    "import logging\n",
    "\n",
    "# Configure logging\n",
    "logging.basicConfig(level=logging.INFO, format=\"%(asctime)s - %(levelname)s - %(message)s\")\n",
    "\n",
    "# Define USB path\n",
    "usbpath = \"/usr/local/ext/\"\n",
    "\n",
    "try:\n",
    "    # Retrieve the configuration from the device\n",
    "    configs = exsh.clicmd(\"show configuration\", capture=True).strip()\n",
    "\n",
    "    # Debug: Check raw output\n",
    "    logging.info(f\"Config Output Length: {len(configs)} characters\")\n",
    "\n",
    "    if not configs:\n",
    "        logging.error(\"No configuration data retrieved. The output is empty.\")\n",
    "        exit()\n",
    "\n",
    "    # Generate a timestamped filename\n",
    "    timestamp = datetime.datetime.now().strftime(\"%Y%m%d_%H%M%S\")\n",
    "    backup_filename = f\"exos_backup_config_{timestamp}.txt\"\n",
    "    backup_filepath = os.path.join(usbpath, backup_filename)\n",
    "\n",
    "    # Check if the USB path exists\n",
    "    if not os.path.exists(usbpath):\n",
    "        logging.error(f\"USB path '{usbpath}' does not exist. Ensure the storage is mounted.\")\n",
    "        exit()\n",
    "\n",
    "    # Ask for user confirmation before saving\n",
    "    confirm = input(f\"Do you want to save the configuration backup to '{backup_filename}'? (y/n): \").strip().lower()\n",
    "\n",
    "    if confirm == 'y':\n",
    "        # Write configuration to the backup file\n",
    "        with open(backup_filepath, 'w', encoding='utf-8') as file:\n",
    "            file.write(configs)\n",
    "            logging.info(f\"Configuration backup saved to {backup_filepath}\")\n",
    "    else:\n",
    "        logging.warning(\"Backup operation canceled.\")\n",
    "\n",
    "except PermissionError:\n",
    "    logging.error(f\"Permission denied: Unable to write to '{usbpath}'. Check write permissions.\")\n",
    "except Exception as e:\n",
    "    logging.error(f\"Error retrieving configurations: {e}\")\n",
    "    exit()\n"
   ]
  },
  {
   "cell_type": "markdown",
   "metadata": {},
   "source": [
    "## Shut de Rogue DHCP Servers"
   ]
  },
  {
   "cell_type": "code",
   "execution_count": null,
   "metadata": {},
   "outputs": [],
   "source": [
    "import exsh\n",
    "import re\n",
    "\n",
    "# Run DHCP snooping check\n",
    "dhcp_output = exsh.clicmd(\"show ip-security dhcp-snooping violations\", capture=True)\n",
    "\n",
    "# Detect unauthorized DHCP servers\n",
    "rogue_servers = []\n",
    "for line in dhcp_output.split(\"\\n\"):\n",
    "    match = re.search(r\"(\\S+)\\s+(\\S+)\\s+Rogue\", line)  # Extract IP and port\n",
    "    if match:\n",
    "        ip, port = match.groups()\n",
    "        rogue_servers.append((ip, port))\n",
    "\n",
    "# Disable rogue servers if found\n",
    "if rogue_servers:\n",
    "    for ip, port in rogue_servers:\n",
    "        exsh.clicmd(f\"disable port {port}\")\n",
    "        print(f\"Rogue DHCP server detected on {port} (IP: {ip}) - Port Disabled!\")\n",
    "else:\n",
    "    print(\"No rogue DHCP servers detected.\")\n"
   ]
  }
 ],
 "metadata": {
  "language_info": {
   "name": "python"
  }
 },
 "nbformat": 4,
 "nbformat_minor": 2
}
