{
 "cells": [
  {
   "cell_type": "markdown",
   "metadata": {},
   "source": [
    "## Shut de Rogue DHCP Servers"
   ]
  },
  {
   "cell_type": "code",
   "execution_count": null,
   "metadata": {},
   "outputs": [],
   "source": [
    "import exsh\n",
    "import re\n",
    "\n",
    "# Ask for VLAN name\n",
    "vlan_output = exsh.clicmd(f\"sh vlan\",capture=True)\n",
    "print(vlan_output)\n",
    "vlan_name = input(\"Enter VLAN name: \")\n",
    "\n",
    "# Run DHCP snooping check for the specific VLAN\n",
    "dhcp_output = exsh.clicmd(f\"show ip-security dhcp-snooping violations vlan {vlan_name}\", capture=True)\n",
    "\n",
    "# Detect unauthorized DHCP servers\n",
    "rogue_servers = []\n",
    "for line in dhcp_output.split(\"\\n\"):\n",
    "    match = re.search(r\"(\\S+)\\s+(\\S+)\\s+Rogue\", line)  # Extract IP and port\n",
    "    if match:\n",
    "        ip, port = match.groups()\n",
    "        rogue_servers.append((ip, port))\n",
    "\n",
    "# Disable rogue servers if found\n",
    "if rogue_servers:\n",
    "    for ip, port in rogue_servers:\n",
    "        exsh.clicmd(f\"disable port {port}\")\n",
    "        print(f\"Rogue DHCP server detected on {port} (IP: {ip}) - Port Disabled!\")\n",
    "else:\n",
    "    print(f\"No rogue DHCP servers detected on VLAN {vlan_name}.\")\n",
    "\n"
   ]
  }
 ],
 "metadata": {
  "language_info": {
   "name": "python"
  }
 },
 "nbformat": 4,
 "nbformat_minor": 2
}
