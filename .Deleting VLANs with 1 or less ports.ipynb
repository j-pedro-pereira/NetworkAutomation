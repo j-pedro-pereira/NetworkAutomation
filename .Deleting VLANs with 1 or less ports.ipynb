{
 "cells": [
  {
   "cell_type": "markdown",
   "metadata": {},
   "source": [
    "# Deleting VLANs with one or less ports assigned"
   ]
  },
  {
   "cell_type": "code",
   "execution_count": null,
   "metadata": {},
   "outputs": [],
   "source": [
    "import exsh\n",
    "import re\n",
    "\n",
    "try:\n",
    "    # Retrieve VLANs\n",
    "    vlan_output = exsh.clicmd(\"show vlan\", capture=True)\n",
    "\n",
    "    # Extract VLANs with 0 or 1 ports\n",
    "    vlan_matches = re.findall(r\"(\\S+)\\s+(\\d+).*\\s+(\\d+)\\s*/\\s*(\\d+)\", vlan_output)\n",
    "\n",
    "    for vlan_name, vlan_id, active_ports, total_ports in vlan_matches:\n",
    "        active_ports = int(active_ports)\n",
    "        total_ports = int(total_ports)\n",
    "\n",
    "        # Skip reserved VLANs\n",
    "        if vlan_id in [\"1\", \"4\", \"4095\"]:\n",
    "            continue  \n",
    "\n",
    "        # Check if VLAN 1 or less ports\n",
    "        if total_ports <= 1:\n",
    "            try:\n",
    "                exsh.clicmd(f\"delete vlan {vlan_id}\")\n",
    "                print(f\"[+] Deleted VLAN {vlan_name} (ID: {vlan_id}) with {total_ports} ports\")\n",
    "            except Exception as delete_error:\n",
    "                print(f\"[-] Error deleting VLAN {vlan_name} (ID: {vlan_id}): {delete_error}\")\n",
    "        else:\n",
    "            print(f\"[*] Skipping VLAN {vlan_name} (ID: {vlan_id}), has {total_ports} ports\")\n",
    "\n",
    "except Exception as e:\n",
    "    print(f\"[-] Error retrieving VLANs: {e}\")\n"
   ]
  }
 ],
 "metadata": {
  "language_info": {
   "name": "python"
  }
 },
 "nbformat": 4,
 "nbformat_minor": 2
}
