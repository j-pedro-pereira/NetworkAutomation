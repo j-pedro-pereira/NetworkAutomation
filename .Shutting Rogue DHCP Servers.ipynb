{
 "cells": [
  {
   "cell_type": "markdown",
   "metadata": {
    "vscode": {
     "languageId": "plaintext"
    }
   },
   "source": [
    "# Shutting Rogue DHCP Servers"
   ]
  },
  {
   "cell_type": "code",
   "execution_count": null,
   "metadata": {},
   "outputs": [],
   "source": [
    "import exsh\n",
    "import re\n",
    "\n",
    "try:\n",
    "    # Retrieve VLANs\n",
    "    vlan_output = exsh.clicmd(\"show vlan\", capture=True)\n",
    "\n",
    "    # Loop through VLANs and enable DHCP snooping (excluding VLAN 4095)\n",
    "    for vlan in vlan_output.splitlines():\n",
    "        if re.match(r'^\\d+\\s+.*', vlan):\n",
    "            vlan_id = vlan.split()[0]\n",
    "            if vlan_id == \"4095\":\n",
    "                print(f\"Skipping Management VLAN {vlan_id}\")\n",
    "                continue  # Skip Management VLAN 4095\n",
    "            \n",
    "            exsh.clicmd(f\"enable ip-security dhcp-snooping vlan {vlan_id} port all violation-action drop-packet snmp-trap\")\n",
    "            print(f\"Enabled DHCP snooping on VLAN {vlan_id}\")\n",
    "\n",
    "except Exception as e:\n",
    "    print(\"Error retrieving VLANs: \" + str(e))\n"
   ]
  }
 ],
 "metadata": {
  "language_info": {
   "name": "python"
  }
 },
 "nbformat": 4,
 "nbformat_minor": 2
}
