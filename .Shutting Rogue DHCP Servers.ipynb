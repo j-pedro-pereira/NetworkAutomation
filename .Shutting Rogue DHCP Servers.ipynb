{
 "cells": [
  {
   "cell_type": "markdown",
   "metadata": {
    "vscode": {
     "languageId": "plaintext"
    }
   },
   "source": [
    "# Shutting Rogue DHCP Servers"
   ]
  },
  {
   "cell_type": "code",
   "execution_count": null,
   "metadata": {},
   "outputs": [],
   "source": [
    "import exsh\n",
    "import re\n",
    "\n",
    "vlan_output = exsh.clicmd(\"show vlan\", capture=True)\n",
    "vlan_list = []\n",
    "for line in vlan_output.split(\"\\n\"):\n",
    "    match = re.search(r\"(\\S+).*\\s\\d+\", line)  # Extract VLAN name\n",
    "    if match:\n",
    "        vlan_list.append(match.group(1))\n",
    "\n",
    "for vlan in vlan_list:\n",
    "    print(f\"Checking VLAN {vlan} for rogue DHCP servers...\")\n",
    "    dhcp_output = exsh.clicmd(f\"show ip-security dhcp-snooping violations vlan {vlan}\", capture=True)\n",
    "    rogue_servers = []\n",
    "    for line in dhcp_output.split(\"\\n\"):\n",
    "        match = re.search(r\"(\\S+)\\s+(\\S+)\\s+Rogue\", line)  # Extract IP and port\n",
    "        if match:\n",
    "            ip, port = match.groups()\n",
    "            rogue_servers.append((ip, port))\n",
    "\n",
    "    if rogue_servers:\n",
    "        for ip, port in rogue_servers:\n",
    "            exsh.clicmd(f\"disable port {port}\")\n",
    "            print(f\"Rogue DHCP server detected on {port} (IP: {ip}) - Port Disabled!\")\n",
    "    else:\n",
    "        print(f\"No rogue DHCP servers detected on VLAN {vlan}.\")"
   ]
  }
 ],
 "metadata": {
  "language_info": {
   "name": "python"
  }
 },
 "nbformat": 4,
 "nbformat_minor": 2
}
