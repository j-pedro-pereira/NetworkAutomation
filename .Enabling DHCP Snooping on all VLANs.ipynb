{
 "cells": [
  {
   "cell_type": "markdown",
   "metadata": {
    "vscode": {
     "languageId": "plaintext"
    }
   },
   "source": [
    "# Enabling DHCP Snooping on all VLANs"
   ]
  },
  {
   "cell_type": "code",
   "execution_count": null,
   "metadata": {},
   "outputs": [],
   "source": [
    "import exsh\n",
    "import re\n",
    "\n",
    "try:\n",
    "    # 1) Get VLAN output\n",
    "    vlan_output = exsh.clicmd(\"show vlan\", capture=True)\n",
    "\n",
    "    # 2) Extract VLAN names (correcting regex to match the first column)\n",
    "    vlans = re.findall(r\"^\\s*([A-Za-z0-9_-]+)\\s+\\d+\", vlan_output, re.MULTILINE)\n",
    "    print(f\"VLAN Names Found: {vlans}\")\n",
    "\n",
    "    # 3) Configure DHCP snooping for each VLAN by name\n",
    "    for vlan_name in vlans:\n",
    "        if vlan_name in {\"Default\", \"Mgmt\"}:  # Skip reserved VLANs\n",
    "            continue\n",
    "\n",
    "        # 4) Enable DHCP snooping with the correct violation action\n",
    "        cmd = f\"enable ip-security dhcp-snooping vlan {vlan_name} port all violation-action drop-packet snmp-trap\"\n",
    "\n",
    "        result = exsh.clicmd(cmd, capture=True)\n",
    "\n",
    "        if \"error\" not in result:\n",
    "            print(f\"[+]DHCP snooping successfully enabled on VLAN {vlan_name}.\")\n",
    "        else:\n",
    "            print(f\"[-] Error executing command for VLAN {vlan_name}: {result}\")\n",
    "\n",
    "except Exception as e:\n",
    "    print(f\"[-] An error occurred: {e}\")\n",
    "\n"
   ]
  }
 ],
 "metadata": {
  "language_info": {
   "name": "python"
  }
 },
 "nbformat": 4,
 "nbformat_minor": 2
}
