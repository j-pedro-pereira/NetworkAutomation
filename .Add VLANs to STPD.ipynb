{
 "cells": [
  {
   "cell_type": "markdown",
   "metadata": {},
   "source": [
    "# Adding VLANs to STPD"
   ]
  },
  {
   "cell_type": "code",
   "execution_count": null,
   "metadata": {},
   "outputs": [],
   "source": [
    "import exsh\n",
    "import re\n",
    "\n",
    "try:\n",
    "    # Retrieve VLANs\n",
    "    vlan_output = exsh.clicmd(\"show vlan\", capture=True)\n",
    "\n",
    "    # Extract VLANs IDs\n",
    "    vlan_ids = re.findall(r\"(\\d+)\\s+\", vlan_output)\n",
    "\n",
    "    # Add VLANs to s0\n",
    "    for vlan_id in vlan_ids:\n",
    "        # Skip VLAN 0 and VLAN 4095\n",
    "        if vlan_id in ['0', '4095']:\n",
    "            print(f\"[*] Skipping VLAN {vlan_id} as it is not allowed\")\n",
    "            continue\n",
    "\n",
    "        try:\n",
    "            # Check if VLAN is already in STP\n",
    "            stp_output = exsh.clicmd(\"show stp\", capture=True)\n",
    "            if f\"VLAN {vlan_id}\" not in stp_output:\n",
    "                try:\n",
    "                    # Add VLAN to STP\n",
    "                    exsh.clicmd(f\"enable stpd s0 auto-bind vlan {vlan_id}\")\n",
    "                    print(f\"[+] Successfully added VLAN {vlan_id} to STP\")\n",
    "                except Exception as e:\n",
    "                    print(f\"[-] Error adding VLAN {vlan_id} to STP: {e}\")\n",
    "            else:\n",
    "                print(f\"[*] VLAN {vlan_id} is already in STP\")\n",
    "        except Exception as e:\n",
    "            print(f\"[-] Error checking STP status for VLAN {vlan_id}: {e}\")\n",
    "\n",
    "except Exception as e:\n",
    "    print(f\"[-] Error retrieving VLANs: {e}\")"
   ]
  }
 ],
 "metadata": {
  "language_info": {
   "name": "python"
  }
 },
 "nbformat": 4,
 "nbformat_minor": 2
}
